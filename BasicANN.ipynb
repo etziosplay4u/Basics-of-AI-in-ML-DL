{
  "nbformat": 4,
  "nbformat_minor": 0,
  "metadata": {
    "colab": {
      "provenance": [],
      "authorship_tag": "ABX9TyM01czx6uFhhlz+0dlVEgd4",
      "include_colab_link": true
    },
    "kernelspec": {
      "name": "python3",
      "display_name": "Python 3"
    },
    "language_info": {
      "name": "python"
    }
  },
  "cells": [
    {
      "cell_type": "markdown",
      "metadata": {
        "id": "view-in-github",
        "colab_type": "text"
      },
      "source": [
        "<a href=\"https://colab.research.google.com/github/etziosplay4u/Basics-of-AI-in-ML-DL/blob/main/BasicANN.ipynb\" target=\"_parent\"><img src=\"https://colab.research.google.com/assets/colab-badge.svg\" alt=\"Open In Colab\"/></a>"
      ]
    },
    {
      "cell_type": "code",
      "source": [
        "import torch\n",
        "from torchvision import datasets, transforms\n",
        "import torchvision\n",
        "\n",
        "# Basic Prep\n",
        "transform = transforms.Compose([\n",
        "    transforms.ToTensor(),\n",
        "    transforms.Normalize((0.2), (0.3))])\n",
        "\n",
        "# Load\n",
        "train_loader = torch.utils.data.DataLoader(\n",
        "    datasets.MNIST('data', train=True, download=True, transform=transform))\n",
        "\n",
        "test_loader = torch.utils.data.DataLoader(\n",
        "    datasets.MNIST('data', train=False, transform=transform))"
      ],
      "metadata": {
        "colab": {
          "base_uri": "https://localhost:8080/"
        },
        "id": "r640xk5JOxIx",
        "outputId": "efb57ea0-bbcc-4dbe-e741-079bc9f615a7"
      },
      "execution_count": 1,
      "outputs": [
        {
          "output_type": "stream",
          "name": "stderr",
          "text": [
            "100%|██████████| 9.91M/9.91M [00:00<00:00, 12.8MB/s]\n",
            "100%|██████████| 28.9k/28.9k [00:00<00:00, 338kB/s]\n",
            "100%|██████████| 1.65M/1.65M [00:00<00:00, 3.20MB/s]\n",
            "100%|██████████| 4.54k/4.54k [00:00<00:00, 5.91MB/s]\n"
          ]
        }
      ]
    },
    {
      "cell_type": "code",
      "source": [
        "import time\n",
        "import torch.nn as nn\n",
        "import torch.optim as optim\n",
        "import torch.nn.functional as F\n",
        "\n",
        "class Net(nn.Module):\n",
        "    def __init__(self, epochs=20):\n",
        "        super(Net, self).__init__()\n",
        "        self.linear1 = nn.Linear(784, 128)\n",
        "        self.linear2 = nn.Linear(128, 64)\n",
        "        self.linear3 = nn.Linear(64, 10)\n",
        "\n",
        "        self.epochs = epochs\n",
        "\n",
        "    def forward_pass(self, x):\n",
        "        x = self.linear1(x)\n",
        "        x = torch.sigmoid(x)\n",
        "        x = self.linear2(x)\n",
        "        x = torch.sigmoid(x)\n",
        "        x = self.linear3(x)\n",
        "        x = torch.softmax(x, dim=0)\n",
        "        return x\n",
        "\n",
        "    def one_hot_encode(self, y):\n",
        "        encoded = torch.zeros([10], dtype=torch.float64)\n",
        "        encoded[y[0]] = 1.\n",
        "        return encoded\n",
        "\n",
        "    def train_model(self, train_loader, optimizer, criterion):\n",
        "        start_time = time.time()\n",
        "        loss = None\n",
        "\n",
        "        for iteration in range(self.epochs):\n",
        "            for x,y in train_loader:\n",
        "                y = self.one_hot_encode(y)\n",
        "                optimizer.zero_grad()\n",
        "                output = self.forward_pass(torch.flatten(x))\n",
        "                loss = criterion(output, y)\n",
        "                loss.backward()\n",
        "                optimizer.step()\n",
        "\n",
        "            print('Epoch: {0}, Time Spent: {1:.2f}s, Loss: {2}'.format(\n",
        "                iteration+1, time.time() - start_time, loss\n",
        "            ))\n",
        "\n",
        "    def predict(self, output_img):\n",
        "      self.eval()\n",
        "      with torch.no_grad():\n",
        "          output = self.forward_pass(torch.flatten(output_img))\n",
        "          predicted_class = torch.argmax(output)\n",
        "      return predicted_class"
      ],
      "metadata": {
        "id": "rmacyI9-Rvlp"
      },
      "execution_count": 2,
      "outputs": []
    },
    {
      "cell_type": "code",
      "source": [
        "model = Net()\n",
        "\n",
        "optimizer = optim.SGD(model.parameters(), lr=0.01)\n",
        "criterion = nn.BCEWithLogitsLoss()\n",
        "\n",
        "model.train_model(train_loader, optimizer, criterion)"
      ],
      "metadata": {
        "colab": {
          "base_uri": "https://localhost:8080/"
        },
        "id": "RnHbWRP-W8N9",
        "outputId": "43d0cd54-0b8d-4493-ce19-15a170b2c7bb"
      },
      "execution_count": null,
      "outputs": [
        {
          "output_type": "stream",
          "name": "stdout",
          "text": [
            "Epoch: 1, Time Spent: 101.19s, Loss: 0.7351984851062298\n",
            "Epoch: 2, Time Spent: 199.73s, Loss: 0.7381450887769461\n",
            "Epoch: 3, Time Spent: 297.85s, Loss: 0.7407056482508778\n"
          ]
        }
      ]
    },
    {
      "cell_type": "markdown",
      "source": [
        "# Output"
      ],
      "metadata": {
        "id": "NwHawOBis2mE"
      }
    },
    {
      "cell_type": "code",
      "source": [
        "from PIL import Image\n",
        "\n",
        "image = Image.open('/content/images.jpeg').convert('L')\n",
        "\n",
        "output_img = transform(image)\n",
        "\n",
        "# Predict\n",
        "predicted_class = model.predict(output_img)\n",
        "print(f'Predicted Class: {predicted_class}')"
      ],
      "metadata": {
        "id": "uItktweNoUWo"
      },
      "execution_count": null,
      "outputs": []
    }
  ]
}