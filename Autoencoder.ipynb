{
  "nbformat": 4,
  "nbformat_minor": 0,
  "metadata": {
    "colab": {
      "provenance": [],
      "include_colab_link": true
    },
    "kernelspec": {
      "name": "python3",
      "display_name": "Python 3"
    },
    "language_info": {
      "name": "python"
    }
  },
  "cells": [
    {
      "cell_type": "markdown",
      "metadata": {
        "id": "view-in-github",
        "colab_type": "text"
      },
      "source": [
        "<a href=\"https://colab.research.google.com/github/etziosplay4u/Basics-of-AI-in-ML-DL/blob/main/Autoencoder.ipynb\" target=\"_parent\"><img src=\"https://colab.research.google.com/assets/colab-badge.svg\" alt=\"Open In Colab\"/></a>"
      ]
    },
    {
      "cell_type": "markdown",
      "source": [
        "# Import Nesessary Libraries"
      ],
      "metadata": {
        "id": "pmFKSx5tLQXf"
      }
    },
    {
      "cell_type": "code",
      "execution_count": null,
      "metadata": {
        "id": "7QFzlxuuWyOA"
      },
      "outputs": [],
      "source": [
        "import torch\n",
        "import torch.nn as nn\n",
        "import torch.optim as optim\n",
        "from torchvision import datasets, transforms\n",
        "from torch.utils.data import DataLoader\n",
        "import matplotlib.pyplot as plt"
      ]
    },
    {
      "cell_type": "markdown",
      "source": [
        "# Declare a transform function to convert the images to tensors"
      ],
      "metadata": {
        "id": "rIQh7TZELb14"
      }
    },
    {
      "cell_type": "code",
      "source": [
        "transform = transforms.Compose([\n",
        "    transforms.ToTensor()\n",
        "])"
      ],
      "metadata": {
        "id": "IXyd0WoG2VUA"
      },
      "execution_count": null,
      "outputs": []
    },
    {
      "cell_type": "markdown",
      "source": [
        "# Download the MNIST dataset and put them on a Dataloader"
      ],
      "metadata": {
        "id": "IKO5AYUJLrkz"
      }
    },
    {
      "cell_type": "code",
      "source": [
        "data = datasets.MNIST(root='./data', train=True, download=True, transform=transform)\n",
        "loader = DataLoader(data, batch_size=64, shuffle=True)"
      ],
      "metadata": {
        "id": "LUuIYEOV2iWD",
        "colab": {
          "base_uri": "https://localhost:8080/"
        },
        "outputId": "01271eff-7257-4c3b-9a54-0fb7728d786f"
      },
      "execution_count": null,
      "outputs": [
        {
          "output_type": "stream",
          "name": "stderr",
          "text": [
            "100%|██████████| 9.91M/9.91M [00:00<00:00, 17.3MB/s]\n",
            "100%|██████████| 28.9k/28.9k [00:00<00:00, 484kB/s]\n",
            "100%|██████████| 1.65M/1.65M [00:00<00:00, 3.85MB/s]\n",
            "100%|██████████| 4.54k/4.54k [00:00<00:00, 5.09MB/s]\n"
          ]
        }
      ]
    },
    {
      "cell_type": "markdown",
      "source": [
        "# Define Encoder and Decoder in AutoEncoder"
      ],
      "metadata": {
        "id": "e_qGy7kkL_81"
      }
    },
    {
      "cell_type": "code",
      "source": [
        "class AutoEncoder(nn.Module):\n",
        "    def __init__(self):\n",
        "        super(AutoEncoder, self).__init__()\n",
        "        self.enc = nn.Sequential(\n",
        "            nn.Flatten(),\n",
        "            nn.Linear(784, 256),\n",
        "            nn.ReLU(),\n",
        "            nn.Linear(256, 64),\n",
        "            nn.ReLU()\n",
        "        )\n",
        "        self.dec = nn.Sequential(\n",
        "            nn.Linear(64, 256),\n",
        "            nn.ReLU(),\n",
        "            nn.Linear(256, 784),\n",
        "            nn.Sigmoid(),\n",
        "            nn.Unflatten(1, (1, 28, 28))\n",
        "        )\n",
        "    def forward(self, x):\n",
        "        x = self.enc(x)\n",
        "        x = self.dec(x)\n",
        "        return x"
      ],
      "metadata": {
        "id": "enuaAIQP2nHt"
      },
      "execution_count": null,
      "outputs": []
    },
    {
      "cell_type": "markdown",
      "source": [
        "# Define a loss function, optimizer and call the model"
      ],
      "metadata": {
        "id": "p-4RqTUQMzRn"
      }
    },
    {
      "cell_type": "code",
      "source": [
        "model = AutoEncoder()\n",
        "criterion = nn.MSELoss()\n",
        "optimizer = optim.Adam(model.parameters(), lr=0.01)"
      ],
      "metadata": {
        "id": "JP3RPx8S3VCH"
      },
      "execution_count": null,
      "outputs": []
    },
    {
      "cell_type": "markdown",
      "source": [
        "# Train the model"
      ],
      "metadata": {
        "id": "tfpM4cy6Mjkr"
      }
    },
    {
      "cell_type": "code",
      "source": [
        "epoch = 5\n",
        "for epoch in range(epoch):\n",
        "    for imgs, _ in loader:\n",
        "\n",
        "        output = model(imgs)\n",
        "        loss = criterion(output, imgs)\n",
        "\n",
        "        optimizer.zero_grad()\n",
        "        loss.backward()\n",
        "        optimizer.step()\n",
        "\n",
        "    print(f\"Epoch [{epoch+1}/{epoch+1}], Loss: {loss.item():.4f}\")"
      ],
      "metadata": {
        "colab": {
          "base_uri": "https://localhost:8080/"
        },
        "id": "Cm2J_O2N3oQu",
        "outputId": "db6648c6-c43b-4fd6-d0d2-13f602255bce"
      },
      "execution_count": null,
      "outputs": [
        {
          "output_type": "stream",
          "name": "stdout",
          "text": [
            "Epoch [1/1], Loss: 0.0139\n",
            "Epoch [2/2], Loss: 0.0135\n",
            "Epoch [3/3], Loss: 0.0171\n",
            "Epoch [4/4], Loss: 0.0195\n",
            "Epoch [5/5], Loss: 0.0166\n"
          ]
        }
      ]
    },
    {
      "cell_type": "markdown",
      "source": [
        "# Evaluate the model (original vs reconstructed images)"
      ],
      "metadata": {
        "id": "lJ-CVILoMpc_"
      }
    },
    {
      "cell_type": "code",
      "source": [
        "model.eval()\n",
        "imgs, _ = next(iter(loader))\n",
        "with torch.no_grad():\n",
        "    reconstructed = model(imgs) #disabled the gradient calc and puts the output in a recon var.\n",
        "img_count = 12 #i want to show 12 images in og vs reco form\n",
        "plt.figure(figsize=(16, 4))\n",
        "for i in range(img_count):\n",
        "    ax = plt.subplot(2, img_count, i + 1) #in ax var. created 2 grids put 1 img from the og in the 1st grid and iter+1\n",
        "    plt.imshow(imgs[i].squeeze(), cmap=\"gray\")\n",
        "    plt.title(\"Original\")\n",
        "    plt.axis(\"off\")\n",
        "\n",
        "    ax = plt.subplot(2, img_count, i + 1 + img_count) #in the same ax var. within the same 2 grids put 1 img from the recon in the 2nd grid and iter+1+imgcount to avoid overlapping\n",
        "    plt.imshow(reconstructed[i].squeeze(), cmap=\"gray\")\n",
        "    plt.title(\"Recon\")\n",
        "    plt.axis(\"off\")\n",
        "\n",
        "plt.show()"
      ],
      "metadata": {
        "id": "YqYdvOHc4ced",
        "colab": {
          "base_uri": "https://localhost:8080/",
          "height": 314
        },
        "outputId": "02e2993a-c679-4538-cfbb-6d3805a263f3"
      },
      "execution_count": null,
      "outputs": [
        {
          "output_type": "display_data",
          "data": {
            "text/plain": [
              "<Figure size 1600x400 with 24 Axes>"
            ],
            "image/png": "[encoded data removed]"
          },
          "metadata": {}
        }
      ]
    }
  ]
}