{
  "nbformat": 4,
  "nbformat_minor": 0,
  "metadata": {
    "colab": {
      "provenance": [],
      "authorship_tag": "ABX9TyP3VpwvfkNvYyS6XYyl20OS",
      "include_colab_link": true
    },
    "kernelspec": {
      "name": "python3",
      "display_name": "Python 3"
    },
    "language_info": {
      "name": "python"
    }
  },
  "cells": [
    {
      "cell_type": "markdown",
      "metadata": {
        "id": "view-in-github",
        "colab_type": "text"
      },
      "source": [
        "<a href=\"https://colab.research.google.com/github/etziosplay4u/Basics-of-AI-in-ML-DL/blob/main/Basic_Convolution_Layer.ipynb\" target=\"_parent\"><img src=\"https://colab.research.google.com/assets/colab-badge.svg\" alt=\"Open In Colab\"/></a>"
      ]
    },
    {
      "cell_type": "code",
      "execution_count": null,
      "metadata": {
        "id": "FOgImprlnm9N"
      },
      "outputs": [],
      "source": [
        "import torch\n",
        "import torchvision\n",
        "from torchvision import datasets, transforms\n",
        "import torch.nn as nn\n",
        "import torch.optim as optim\n",
        "import torch.nn.functional as F\n",
        "import time"
      ]
    },
    {
      "cell_type": "code",
      "source": [
        "# Basic Prep\n",
        "transform = transforms.Compose([\n",
        "    transforms.ToTensor(),\n",
        "    transforms.Normalize((0.2), (0.3))])\n",
        "\n",
        "# Load\n",
        "train_loader = torch.utils.data.DataLoader(\n",
        "    datasets.MNIST('data', train=True, download=True, transform=transform))\n",
        "\n",
        "test_loader = torch.utils.data.DataLoader(\n",
        "    datasets.MNIST('data', train=False, transform=transform))"
      ],
      "metadata": {
        "colab": {
          "base_uri": "https://localhost:8080/"
        },
        "id": "YASgZkhwBs7w",
        "outputId": "1251bbc6-1ca0-4fc2-e1cb-55675a7196ca"
      },
      "execution_count": null,
      "outputs": [
        {
          "output_type": "stream",
          "name": "stderr",
          "text": [
            "100%|██████████| 9.91M/9.91M [00:00<00:00, 90.3MB/s]\n",
            "100%|██████████| 28.9k/28.9k [00:00<00:00, 29.2MB/s]\n",
            "100%|██████████| 1.65M/1.65M [00:00<00:00, 93.3MB/s]\n",
            "100%|██████████| 4.54k/4.54k [00:00<00:00, 6.27MB/s]\n"
          ]
        }
      ]
    },
    {
      "cell_type": "code",
      "source": [
        "def convl(input, weight, bias, stride, padding=0):\n",
        "  batch_size, in_channel, in_height, in_width = input.shape\n",
        "  out_channel, in_channel, kernel_height, kernel_width = weight.shape\n",
        "\n",
        "  out_height = (in_height + 2 * padding - kernel_height, stride + 1)\n",
        "  out_width = (in_width + 2 * padding - kernel_width, stride + 1)\n",
        "\n",
        "  if padding > 0:\n",
        "    input = F.pad(input(padding))\n",
        "\n",
        "  output = torch.zeros((batch_size, out_channel, out_height, out_width))\n",
        "\n",
        "  for bs in range(batch_size):\n",
        "    for oc in range(out_channel):\n",
        "      for sp1 in range(out_height):\n",
        "        for sp2 in range(out_width):\n",
        "\n",
        "          height_start = sp1 * stride\n",
        "          height_end = height_start + kernel_height\n",
        "          width_start = sp2 * stride\n",
        "          width_end = width_start + kernel_width\n",
        "\n",
        "          Specific_img = input[in_channel, height_end, width_end]\n",
        "\n",
        "\n",
        "          output[bs, oc, sp1, sp2] = torch.sum(Specific_img * weight[out_channel]) + bias[out_channel]\n",
        "\n",
        "  return output"
      ],
      "metadata": {
        "id": "paIOx_pHntVX"
      },
      "execution_count": null,
      "outputs": []
    }
  ]
}